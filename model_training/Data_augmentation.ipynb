{
 "cells": [
  {
   "cell_type": "code",
   "execution_count": 1,
   "id": "9625845c",
   "metadata": {},
   "outputs": [],
   "source": [
    "import os\n",
    "import shutil\n",
    "from torchvision.transforms import Compose, RandomHorizontalFlip, RandomResizedCrop, ColorJitter, RandomRotation\n",
    "from PIL import Image\n",
    "from tqdm.notebook import tqdm"
   ]
  },
  {
   "cell_type": "code",
   "execution_count": 2,
   "id": "696af71f",
   "metadata": {},
   "outputs": [],
   "source": [
    "# Определяем трансформации\n",
    "transform_train = Compose([\n",
    "    RandomHorizontalFlip(),\n",
    "    RandomRotation(20),\n",
    "    RandomResizedCrop(48, scale=(0.8, 1.0)),\n",
    "    ColorJitter(brightness=0.1, contrast=0.1, saturation=0.1)\n",
    "])\n",
    "\n",
    "\n",
    "# Определяем пути к папкам\n",
    "data_dir = \"dataset/train_dataset\"\n",
    "transformed_data_dir = \"dataset/train_dataset_transformed_2\"\n",
    "\n",
    "num_files = sum([len(files) for _, _, files in os.walk(data_dir)])"
   ]
  },
  {
   "cell_type": "code",
   "execution_count": null,
   "id": "fa7ae0f0",
   "metadata": {},
   "outputs": [],
   "source": [
    "# Трансформация и перезапись исходных изображений\n",
    "for root, dirs, files in os.walk(data_dir):\n",
    "    for file in tqdm(files):\n",
    "        if file.endswith(\".png\"):\n",
    "            # Загрузаем изображения\n",
    "            image_path = os.path.join(root, file)\n",
    "            image = Image.open(image_path)\n",
    "\n",
    "            # Применяем трансформации\n",
    "            transformed_image = transform_train(image)\n",
    "\n",
    "            # Копируем структуру папок в новой директории\n",
    "            rel_path = os.path.relpath(root, data_dir)\n",
    "            transformed_root = os.path.join(transformed_data_dir, rel_path)\n",
    "            os.makedirs(transformed_root, exist_ok=True)\n",
    "\n",
    "            # Сохраняем трансформированные изображения\n",
    "            transformed_image_path = os.path.join(transformed_root, file)\n",
    "            transformed_image.save(transformed_image_path) \n"
   ]
  }
 ],
 "metadata": {
  "kernelspec": {
   "display_name": "Python 3 (ipykernel)",
   "language": "python",
   "name": "python3"
  },
  "language_info": {
   "codemirror_mode": {
    "name": "ipython",
    "version": 3
   },
   "file_extension": ".py",
   "mimetype": "text/x-python",
   "name": "python",
   "nbconvert_exporter": "python",
   "pygments_lexer": "ipython3",
   "version": "3.10.6"
  }
 },
 "nbformat": 4,
 "nbformat_minor": 5
}
